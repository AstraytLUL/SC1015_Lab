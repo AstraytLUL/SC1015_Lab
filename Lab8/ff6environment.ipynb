#import libraries
import random
import time

#Equations to calculate HP/MP lost from an attack
def phy_dmg(attack, strength):
    return attack + strength
def m_dmg(spell_pwr, level, magic):
    return spell_pwr * 4 + (level * magic * spell_pwr / 32)
def phy_dmg_reduced(damage, defense):
    return (damage * (255 - defense) / 256) + 1
def m_dmg_reduced(damage, m_def):
    return (damage * (255 - m_def) / 256) + 1
def phy_block_value(evasion):
    return (255 - evasion * 2) + 1
def m_block_value(m_evasion):
    return (255 - m_evasion * 2) + 1
def hit(hit_rate, block_value):
    return int((hit_rate * block_value) / 256 > random.randint(0, 99))

#class
class Ally:
    def __init__(self):
        self.name = "Terra"
        self.level = 3
        self.maxHP = 63
        self.HP = 63
        self.maxMP = 24
        self.MP = 24
        self.strength = 31
        self.speed = 33
        self.stamina = 28
        self.magic = 39
        self.attack = 12
        self.defense = 42
        self.evasion = 0.05
        self.m_defense = 33
        self.m_evasion = 0.07
        self.defend = 0
        self.state = 1

    def attack_action(self, target):
        if hit(target.hit_rate, phy_block_value(self.evasion)):
            target.HP -= phy_dmg_reduced(phy_dmg(self.attack, self.strength), target.defense)
            print("Terra attacks", target.name ,"for", phy_dmg_reduced(phy_dmg(self.attack, self.strength), target.defense) ,"damage")
            print("Terra HP:", self.HP, "Target HP:", target.HP)
            return
        print("Attack Missed")

    def cure(self, target):
        print("Terra casts Cure")
        target.HP += m_dmg_reduced(m_dmg(10, self.level, self.magic), target.m_defense)
        print("Terra heals", target.name ,"for", m_dmg_reduced(m_dmg(10, self.level, self.magic), target.m_defense) ,"HP")
        print("Terra HP:", self.HP, "Target HP:", target.HP)

    def fire(self, target):
        print("Terra casts Fire")
        if hit(target.hit_rate, m_block_value(self.m_evasion)):
            target.HP -= m_dmg_reduced(m_dmg(21, self.level, self.magic), target.m_defense)
            print("Terra casts Fire and hits", target.name ,"for", m_dmg_reduced(m_dmg(21, self.level, self.magic), target.m_defense) ,"damage")
            print("Terra HP:", self.HP, "Target HP:", target.HP)
            return
        print("Spell Missed")

    def potion(self, target):
        print("Terra uses Potion")
        target.HP += 50
        print("Terra heals", target.name,"for 50 HP")
        print("Terra HP:", self.HP)

    def defend_action(self):
        print("Terra uses Defend")
        self.defend = 1

class Foe:
    def __init__(self, enemy):
        self.level = enemy[0]
        self.maxHP = enemy[1]
        self.HP = enemy[1]
        self.maxMP = enemy[2]
        self.MP = enemy[2]
        self.strength = 56
        self.magic = enemy[3]
        self.attack = enemy[4]
        self.defense = enemy[5]
        self.evasion = enemy[6]
        self.m_defense = enemy[7]
        self.m_evasion = enemy[8]
        self.hit_rate = enemy[9]
        self.name = enemy[10]
        self.state = 1

    def attack_action(self, target):
        if self.state == 0:
            return
        elif random.random() < 0.33:
            print(self.name, "did nothing")
            return
        elif hit(100, phy_block_value(self.evasion)):
            target.HP -= phy_dmg_reduced(phy_dmg(self.attack, self.strength), target.defense)
            print(self.name, "attacks", target.name ,"for", phy_dmg_reduced(phy_dmg(self.attack, self.strength), target.defense) ,"damage")
            print("Terra HP:", target.HP)
            return
        print(self.name, "Attack Missed")

class EnemyGroup:
    pass

#stats of enemies in the format [Level, HP, MP, Magic, Attack, Defense, Evasion, Magic Defense, Magic Evasion, Hit Rate]
wererat_stats = [4, 24, 0, 0, 13, 100, 0, 150, 0, 100, "wererat"]
spritzer_stats = [5, 15, 0, 0, 13, 95, 0, 150, 0, 100, "spritzer"]
bandit_stats = [5, 35, 0, 0, 19, 90, 0, 120, 0, 100, "bandit"]

Terra = Ally()
wererat = Foe(wererat_stats)
spritzer = Foe(spritzer_stats)
bandit = Foe(bandit_stats)

#time ticker
def battle():
    tick = 0
    enemies = EnemyGroup()
    enemies.enemy1 = wererat
    enemies.enemy2 = spritzer
    while True:
        tick += 1
        if Terra.HP >= Terra.maxHP:
            Terra.HP = Terra.maxHP
        if Terra.HP <= 0:
            Terra.state = 0
        if Terra.state == 0:
            break
        if enemies.enemy1.HP <= 0:
            enemies.enemy1.state = 0
        if enemies.enemy2.HP <= 0:
            enemies.enemy2.state = 0
        if enemies.enemy1.state == 0 and enemies.enemy2.state == 0:
            break
        if tick%10 == 0:
            Terra.defend = 0
            while True:
              action = input("Please input Attack, Cure, Fire, Potion, or Defend")
              if action == "Attack":
                target = input("1 or 2")
                if target == "1":
                    Terra.attack_action(enemies.enemy1)
                    break
                elif target == "2":
                    Terra.attack_action(enemies.enemy2)
                    break
              print("Invalid command")
        if tick%20 == 0:
            enemies.enemy1.attack_action(Terra)
            enemies.enemy2.attack_action(Terra)
        time.sleep(1)
    print("Battle is Over.")
    if Terra.state == 0:
        print("You Died. Restart?")
    else:
        print("Victory!")

battle()
