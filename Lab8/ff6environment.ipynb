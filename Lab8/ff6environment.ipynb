#import libraries
import random

#Equations to calculate HP/MP lost from an attack
def phy_dmg(attack, strength):
    return attack + strength
def m_dmg(spell_pwr, level, magic):
    return spell_pwr * 4 + (level * magic * spell_pwr / 32)
def phy_dmg_reduced(damage, defense):
    return (damage * (255 - defense) / 256) + 1
def m_dmg_reduced(damage, m_def):
    return (damage * (255 - m_def) / 256) + 1
def phy_block_value(evasion):
    return (255 - evasion * 2) + 1
def m_block_value(m_evasion):
    return (255 - m_evasion * 2) + 1
def hit(hit_rate, block_value):
    return int((hit_rate * block_value) / 256 > random.randint(0, 99))

#class
class Ally:
    def __init__(self):
        self.name = "Terra"
        self.level = 3
        self.maxHP = 63
        self.HP = 63
        self.maxMP = 24
        self.MP = 24
        self.strength = 31
        self.speed = 33
        self.stamina = 28
        self.magic = 39
        self.attack = 12
        self.defense = 42
        self.evasion = 0.05
        self.m_defense = 33
        self.m_evasion = 0.07
        self.defend = 0
        self.state = 1

    def attack_action(self, target):
        if hit(target.hit_rate, phy_block_value(self.evasion)):
            target.HP -= int(phy_dmg_reduced(phy_dmg(self.attack, self.strength), target.defense))
            print("Terra attacks", target.name ,"for", int(phy_dmg_reduced(phy_dmg(self.attack, self.strength), target.defense)) ,"damage")
            print("Terra HP:", self.HP, "Target HP:", target.HP)
            return
        print("Attack Missed")

    def cure(self, target):
        print("Terra casts Cure")
        self.MP -= 5
        target.HP += int(m_dmg_reduced(m_dmg(10, self.level, self.magic), target.m_defense))
        print("Terra heals", target.name ,"for", int(m_dmg_reduced(m_dmg(10, self.level, self.magic), target.m_defense)) ,"HP")
        if self.HP >= self.maxHP:
            self.HP = self.maxHP
        print("Terra HP:", self.HP, "Target HP:", target.HP)

    def fire(self, target):
        print("Terra casts Fire")
        self.MP -= 4
        if hit(target.hit_rate, m_block_value(self.m_evasion)):
            target.HP -= int(m_dmg_reduced(m_dmg(21, self.level, self.magic), target.m_defense))
            print("Terra casts Fire and hits", target.name ,"for", int(m_dmg_reduced(m_dmg(21, self.level, self.magic), target.m_defense)),"damage")
            print("Terra HP:", self.HP, "Target HP:", target.HP)
            return
        print("Spell Missed")

    def potion(self, target):
        bag.potion -= 1
        print("Terra uses Potion")
        target.HP += 50
        print("Terra heals", target.name,"for 50 HP")
        if self.HP >= self.maxHP:
            self.HP = self.maxHP
        print("Terra HP:", self.HP)

    def defend_action(self):
        print("Terra uses Defend")
        self.defend = 1

class Foe:
    def __init__(self, enemy):
        self.level = enemy[0]
        self.maxHP = enemy[1]
        self.HP = enemy[1]
        self.maxMP = enemy[2]
        self.MP = enemy[2]
        self.strength = 10
        self.magic = enemy[3]
        self.attack = enemy[4]
        self.defense = enemy[5]
        self.evasion = enemy[6]
        self.m_defense = enemy[7]
        self.m_evasion = enemy[8]
        self.hit_rate = enemy[9]
        self.name = enemy[10]
        self.state = 1

    def attack_action(self, target):
        if self.state == 0:
            return
        elif random.random() < 0.33:
            print(self.name, "did nothing")
            return
        elif hit(100, phy_block_value(self.evasion)):
            target.HP -= int(phy_dmg_reduced(phy_dmg(self.attack, self.strength), target.defense))
            print(self.name, "attacks", target.name ,"for", int(phy_dmg_reduced(phy_dmg(self.attack, self.strength), target.defense)) ,"damage")
            print("Terra HP:", target.HP)
            return
        print(self.name, "Attack Missed")

class Inventory:
    def __init__(self):
        self.potion = 2

class EnemyGroup:
    pass

#stats of enemies in the format [Level, HP, MP, Magic, Attack, Defense, Evasion, Magic Defense, Magic Evasion, Hit Rate]
wererat_stats = [4, 24, 0, 0, 13, 100, 0, 150, 0, 100, "wererat"]
spritzer_stats = [5, 15, 0, 0, 13, 95, 0, 150, 0, 100, "spritzer"]
bandit_stats = [5, 35, 0, 0, 19, 90, 0, 120, 0, 100, "bandit"]

bag = Inventory()
Terra = Ally()
wererat = Foe(wererat_stats)
spritzer = Foe(spritzer_stats)
bandit = Foe(bandit_stats)

#battle sequence
def battle():
    enemies = EnemyGroup()
    enemies.enemy1 = wererat
    enemies.enemy2 = spritzer
    while True:
        if Terra.HP <= 0:
            Terra.state = 0
            break

        if Terra.state == 0 or (enemies.enemy1.state == 0 and enemies.enemy2.state == 0):
            break
        
        print("Terra's Turn")
        Terra.defend = 0
        while True:
            action = input("Please input Attack, Cure, Fire, Potion, or Defend")
            #add AI decision making here
            if action == "Attack":
                target = input("wererat or spritzer")
                if target == "wererat" and enemies.enemy1.state == 1:
                    Terra.attack_action(enemies.enemy1)
                    if enemies.enemy1.HP <= 0:
                        enemies.enemy1.state = 0
                        print(enemies.enemy1.name, "defeated.")
                    print("Enemy Turn")
                    if enemies.enemy1.state == 1:
                        enemies.enemy1.attack_action(Terra)
                    if enemies.enemy2.state == 1:
                        enemies.enemy2.attack_action(Terra)
                    break
                elif target == "spritzer" and enemies.enemy2.state == 1:
                    Terra.attack_action(enemies.enemy2)
                    if enemies.enemy2.HP <= 0:
                        enemies.enemy2.state = 0
                        print(enemies.enemy2.name, "defeated.")
                    print("Enemy Turn")
                    if enemies.enemy1.state == 1:
                        enemies.enemy1.attack_action(Terra)
                    if enemies.enemy2.state == 1:
                        enemies.enemy2.attack_action(Terra)
                    break
                else:
                    print("Target is Invalid or Dead.")
                    continue
            elif action == "Cure":
                if Terra.MP < 5:
                    print("Not enough MP!")
                    continue
                target = input("Terra? Y or N")
                if target == "Y":
                    Terra.cure(Terra)
                    print("Enemy Turn")
                    if enemies.enemy1.state == 1:
                        enemies.enemy1.attack_action(Terra)
                    if enemies.enemy2.state == 1:
                        enemies.enemy2.attack_action(Terra)
                    break
                else:
                    print("Invalid command.")
                    continue
            elif action == "Fire":
                if Terra.MP < 4:
                    print("Not enough MP!")
                    continue
                target = input("wererat or spritzer")
                if target == "wererat" and enemies.enemy1.state == 1:
                    Terra.fire(enemies.enemy1)
                    if enemies.enemy1.HP <= 0:
                        enemies.enemy1.state = 0
                        print(enemies.enemy1.name, "defeated.")
                    print("Enemy Turn")
                    if enemies.enemy1.state == 1:
                        enemies.enemy1.attack_action(Terra)
                    if enemies.enemy2.state == 1:
                        enemies.enemy2.attack_action(Terra)
                    break
                elif target == "spritzer" and enemies.enemy2.state == 1:
                    Terra.fire(enemies.enemy2)
                    if enemies.enemy2.HP <= 0:
                        enemies.enemy2.state = 0
                        print(enemies.enemy2.name, "defeated.")
                    print("Enemy Turn")
                    if enemies.enemy1.state == 1:
                        enemies.enemy1.attack_action(Terra)
                    if enemies.enemy2.state == 1:
                        enemies.enemy2.attack_action(Terra)
                    break
                else:
                    print("Target is Invalid or Dead.")
                    continue
            elif action == "Potion":
                if bag.potion <= 0:
                    print("No more Potions!")
                    continue
                target = input("Terra? Y or N")
                if target == "Y":
                    Terra.potion(Terra)
                    print("Enemy Turn")
                    if enemies.enemy1.state == 1:
                        enemies.enemy1.attack_action(Terra)
                    if enemies.enemy2.state == 1:
                        enemies.enemy2.attack_action(Terra)
                    break
                else:
                    print("Invalid command.")
                    continue
            elif action == "Defend":
                target = input("Terra? Y or N")
                if target == "Y":
                    Terra.defend(Terra)
                    print("Enemy Turn")
                    if enemies.enemy1.state == 1:
                        enemies.enemy1.attack_action(Terra)
                    if enemies.enemy2.state == 1:
                        enemies.enemy2.attack_action(Terra)
                    break
                else:
                    print("Invalid command.")
                    continue
            print("Invalid command")
        
    print("Battle is Over.")
    if Terra.state == 0:
        print("You Died. Restart?")
    else:
        print("Victory!")
        print("Terra HP:", Terra.HP , "Terra MP:", Terra.MP, "Potion Count:", bag.potion)

battle()
